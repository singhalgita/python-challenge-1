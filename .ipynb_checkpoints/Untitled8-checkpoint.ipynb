{
 "cells": [
  {
   "cell_type": "code",
   "execution_count": null,
   "id": "0ce7c7ba-c319-4739-9e97-d0ff0b5e0934",
   "metadata": {},
   "outputs": [],
   "source": [
    "item_name = []\n",
    "item_cost=[]\n",
    "item_quantity = []\n",
    "menu_dashes = \"-\" * 50\n",
    "\n",
    "for _ in range(4):\n",
    "    name = input(\"Which item would you like to buy?: \")\n",
    "    item_name.append(name)\n",
    "\n",
    "while len(item_quantity) < len(item_name):\n",
    "    index = len(item_quantity)\n",
    "    quantity = int(input(f\"Enter the quantity for {item_name[index]}: \"))\n",
    "    item_quantity.append(quantity)\n",
    "while len(item_cost) < len(item_name):\n",
    "    index = len (item_cost)\n",
    "    cost = float(input(f\"Enter the item cost for {item_name[index]} per unit: \"))\n",
    "    item_cost[i] = item_quantity[i] * item_cost[i]\n",
    "    item_cost.append(cost)    \n",
    "    \n",
    "#for i in range(len(item_name)):\n",
    "#print(f\" cost of {item_quantity[i]}, {item_name[i]}'s,  is:{item_cost[i]} \")\n",
    "print(item_name)\n",
    "print(item_cost)\n",
    "print(item_quantity)\n",
    "print(menu_dashes)\n",
    "\n",
    "menu_item = {}\n",
    "\n",
    "\n",
    "\n",
    "\n",
    "\n",
    "\n",
    "    "
   ]
  },
  {
   "cell_type": "code",
   "execution_count": null,
   "id": "21958744-f3ea-4a27-af64-b4f900cd1863",
   "metadata": {},
   "outputs": [],
   "source": []
  },
  {
   "cell_type": "code",
   "execution_count": null,
   "id": "866754e1-6c7f-463f-b1bc-cd2bfd65119b",
   "metadata": {},
   "outputs": [],
   "source": []
  },
  {
   "cell_type": "code",
   "execution_count": null,
   "id": "7cb64924-2bf9-4243-93b7-82fa836f577a",
   "metadata": {},
   "outputs": [],
   "source": []
  }
 ],
 "metadata": {
  "kernelspec": {
   "display_name": "Python 3 (ipykernel)",
   "language": "python",
   "name": "python3"
  },
  "language_info": {
   "codemirror_mode": {
    "name": "ipython",
    "version": 3
   },
   "file_extension": ".py",
   "mimetype": "text/x-python",
   "name": "python",
   "nbconvert_exporter": "python",
   "pygments_lexer": "ipython3",
   "version": "3.12.4"
  }
 },
 "nbformat": 4,
 "nbformat_minor": 5
}
